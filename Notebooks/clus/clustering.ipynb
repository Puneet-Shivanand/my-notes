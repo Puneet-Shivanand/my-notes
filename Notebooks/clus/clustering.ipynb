{
 "cells": [
  {
   "cell_type": "markdown",
   "metadata": {
    "deletable": true,
    "editable": true
   },
   "source": [
    "# Simple Clustering with Scipy\n",
    "\n",
    "### import modules"
   ]
  },
  {
   "cell_type": "code",
   "execution_count": 1,
   "metadata": {
    "collapsed": false,
    "deletable": true,
    "editable": true
   },
   "outputs": [],
   "source": [
    "import numpy as np\n",
    "%matplotlib inline\n",
    "import matplotlib.pyplot as plt\n",
    "from scipy.cluster import vq"
   ]
  },
  {
   "cell_type": "code",
   "execution_count": 2,
   "metadata": {
    "collapsed": true,
    "deletable": true,
    "editable": true
   },
   "outputs": [],
   "source": [
    "# create 100 coordinate pairs (i.e. two values), then add 5 to all of them\n",
    "year_1 = np.random.randn(100, 2) + 5\n",
    "\n",
    "# create 30 coordinatee pairs (i.e. two values), then subtract 5 to all of them\n",
    "year_2 = np.random.randn(30, 2) - 5\n",
    "\n",
    "# create 50 coordinatee pairs (i.e. two values)\n",
    "year_3 = np.random.randn(50, 2)"
   ]
  },
  {
   "cell_type": "code",
   "execution_count": 6,
   "metadata": {
    "collapsed": false
   },
   "outputs": [
    {
     "name": "stdout",
     "output_type": "stream",
     "text": [
      "('year 1 battles:', array([[ 4.81937705,  2.71331988],\n",
      "       [ 4.60976941,  4.46296061],\n",
      "       [ 3.08126191,  3.12528861]]))\n",
      "('year 2 battles:', array([[-5.21920293, -3.63645168],\n",
      "       [-4.75142264, -6.94119641],\n",
      "       [-6.12880346, -3.49879751]]))\n",
      "('year 3 battles:', array([[ 0.41473267, -2.42950557],\n",
      "       [ 3.24840182, -0.6717321 ],\n",
      "       [-0.42068646, -1.48266032]]))\n"
     ]
    }
   ],
   "source": [
    "print('year 1 battles:',  year_1[0:3])\n",
    "print('year 2 battles:', year_2[0:3])\n",
    "print('year 3 battles:', year_3[0:3])"
   ]
  },
  {
   "cell_type": "code",
   "execution_count": 7,
   "metadata": {
    "collapsed": true
   },
   "outputs": [],
   "source": [
    "# pool all 3 years of co-ordinates\n",
    "\n",
    "# vertically stack year_1, year_2, and year_3 elements\n",
    "battles = np.vstack([year_1, year_2, year_3])"
   ]
  },
  {
   "cell_type": "code",
   "execution_count": 9,
   "metadata": {
    "collapsed": false
   },
   "outputs": [
    {
     "data": {
      "text/plain": [
       "180"
      ]
     },
     "execution_count": 9,
     "metadata": {},
     "output_type": "execute_result"
    }
   ],
   "source": [
    "len(battles)"
   ]
  },
  {
   "cell_type": "code",
   "execution_count": 10,
   "metadata": {
    "collapsed": true
   },
   "outputs": [],
   "source": [
    "# Cluster all into 3 groups \n",
    "# calculate the centroid coordinates of each cluster\n",
    "# and the variance of all the clusters\n",
    "centroids, variance  = vq.kmeans(battles, 3)"
   ]
  },
  {
   "cell_type": "code",
   "execution_count": 14,
   "metadata": {
    "collapsed": false
   },
   "outputs": [
    {
     "data": {
      "text/plain": [
       "array([[ 5.00256042,  5.10818172],\n",
       "       [ 0.01226562, -0.20041094],\n",
       "       [-5.00497724, -4.97806769]])"
      ]
     },
     "execution_count": 14,
     "metadata": {},
     "output_type": "execute_result"
    }
   ],
   "source": [
    "centroids"
   ]
  },
  {
   "cell_type": "code",
   "execution_count": 15,
   "metadata": {
    "collapsed": false
   },
   "outputs": [
    {
     "data": {
      "text/plain": [
       "1.2450475095577045"
      ]
     },
     "execution_count": 15,
     "metadata": {},
     "output_type": "execute_result"
    }
   ],
   "source": [
    "variance"
   ]
  },
  {
   "cell_type": "code",
   "execution_count": 16,
   "metadata": {
    "collapsed": true
   },
   "outputs": [],
   "source": [
    "identified, distance = vq.vq(battles, centroids)"
   ]
  },
  {
   "cell_type": "code",
   "execution_count": 17,
   "metadata": {
    "collapsed": false
   },
   "outputs": [
    {
     "data": {
      "text/plain": [
       "array([0, 0, 0, 0, 0, 0, 0, 0, 0, 0, 0, 0, 0, 0, 0, 0, 0, 0, 0, 0, 0, 0, 0,\n",
       "       0, 0, 0, 0, 0, 0, 0, 0, 0, 0, 0, 0, 0, 0, 0, 0, 0, 0, 0, 0, 0, 0, 0,\n",
       "       0, 0, 0, 0, 0, 0, 0, 0, 0, 0, 0, 0, 0, 0, 0, 0, 0, 0, 0, 0, 0, 0, 0,\n",
       "       0, 0, 0, 0, 0, 0, 0, 0, 0, 0, 0, 0, 0, 0, 0, 0, 0, 0, 0, 0, 0, 0, 0,\n",
       "       0, 0, 0, 0, 0, 0, 0, 0, 2, 2, 2, 2, 2, 2, 2, 2, 2, 2, 2, 2, 2, 2, 2,\n",
       "       2, 2, 2, 2, 2, 2, 2, 2, 2, 2, 2, 2, 2, 2, 2, 1, 1, 1, 1, 1, 1, 1, 1,\n",
       "       1, 1, 1, 1, 1, 1, 1, 1, 1, 1, 1, 1, 1, 1, 1, 1, 1, 1, 1, 1, 1, 1, 1,\n",
       "       1, 1, 1, 1, 1, 1, 1, 1, 1, 1, 1, 1, 1, 1, 1, 1, 1, 1, 1], dtype=int32)"
      ]
     },
     "execution_count": 17,
     "metadata": {},
     "output_type": "execute_result"
    }
   ],
   "source": [
    "identified"
   ]
  },
  {
   "cell_type": "code",
   "execution_count": 18,
   "metadata": {
    "collapsed": false
   },
   "outputs": [
    {
     "data": {
      "text/plain": [
       "array([ 2.40185748,  0.75537743,  2.76102391,  1.65044935,  0.41905928,\n",
       "        0.541256  ,  1.92906165,  1.68448833,  1.71630887,  0.64853762,\n",
       "        0.91303358,  1.09825016,  0.07981981,  2.06673684,  1.1319297 ,\n",
       "        2.06217713,  1.31245039,  0.58210588,  1.45474777,  1.17058317,\n",
       "        1.66624709,  0.53796297,  1.01526541,  1.46291006,  1.42990152,\n",
       "        1.69805204,  0.58851287,  1.66098792,  0.94112211,  2.53850643,\n",
       "        0.64263327,  1.34910245,  1.3133725 ,  1.1613194 ,  1.30739319,\n",
       "        0.69921256,  1.38084421,  1.32234978,  1.45700296,  0.85013151,\n",
       "        1.14563496,  0.40667535,  0.99985197,  0.89155897,  2.35352154,\n",
       "        0.19630298,  0.50763705,  0.94169456,  0.76287682,  1.17821163,\n",
       "        2.42547569,  1.83661893,  0.9156261 ,  1.29633759,  1.39262017,\n",
       "        1.79247006,  0.31806297,  0.88486984,  0.73106278,  0.33295769,\n",
       "        1.16680294,  1.27455845,  0.98483305,  0.78612182,  1.37777639,\n",
       "        0.28923513,  0.61798483,  2.06950239,  1.66863039,  2.3906579 ,\n",
       "        0.85698643,  1.1529688 ,  0.33078198,  0.81760514,  0.83244913,\n",
       "        1.13924438,  1.10476886,  0.92213409,  0.48170052,  0.61534403,\n",
       "        1.41122378,  1.17746098,  0.47701545,  2.40632312,  0.35794905,\n",
       "        0.6879577 ,  0.98254867,  1.27942172,  1.46439733,  1.6959042 ,\n",
       "        1.98308693,  0.20642338,  0.48716235,  1.37196295,  1.32937583,\n",
       "        0.49842275,  1.34790028,  3.20970474,  2.18036849,  2.44407984,\n",
       "        1.35861186,  1.97943534,  1.85774746,  0.84277582,  1.27747526,\n",
       "        1.70174959,  0.65257298,  1.4840763 ,  0.57461565,  0.83007753,\n",
       "        3.03942175,  0.75056494,  0.55546423,  0.49160814,  2.02355795,\n",
       "        0.57717604,  1.81863174,  0.17305319,  1.51727679,  0.87101884,\n",
       "        0.69962858,  0.33080865,  0.91425738,  3.28974373,  1.16572223,\n",
       "        0.98145621,  0.61373869,  1.5972494 ,  0.96249644,  1.89756315,\n",
       "        2.26513633,  3.27027845,  1.35337023,  1.8453706 ,  1.50828856,\n",
       "        1.69236646,  1.10376422,  2.18419635,  1.28689667,  1.13249266,\n",
       "        1.02873061,  0.62213778,  1.97527918,  1.9738783 ,  0.94782468,\n",
       "        0.88144412,  1.38034318,  1.24223496,  1.95505577,  0.79410187,\n",
       "        1.00681262,  2.0899349 ,  0.05366825,  1.43960268,  1.92158014,\n",
       "        1.16130299,  1.50112477,  1.32750622,  1.49773075,  1.09356741,\n",
       "        0.58691825,  0.59434949,  0.84755591,  1.0196215 ,  1.17242047,\n",
       "        0.42229003,  2.24843675,  1.26303936,  0.56043519,  1.11179318,\n",
       "        1.62955567,  0.96975439,  1.39307622,  1.22802162,  1.34287004,\n",
       "        2.56330359,  1.56303578,  1.17174342,  1.09108916,  0.37271561])"
      ]
     },
     "execution_count": 18,
     "metadata": {},
     "output_type": "execute_result"
    }
   ],
   "source": [
    "distance"
   ]
  },
  {
   "cell_type": "code",
   "execution_count": 19,
   "metadata": {
    "collapsed": true
   },
   "outputs": [],
   "source": [
    "# Index the battles data by the cluster to which they belong\n",
    "cluster_1 = battles[identified == 0]\n",
    "cluster_2 = battles[identified == 1]\n",
    "cluster_3 = battles[identified == 2]"
   ]
  },
  {
   "cell_type": "code",
   "execution_count": 20,
   "metadata": {
    "collapsed": false
   },
   "outputs": [
    {
     "data": {
      "text/plain": [
       "array([[ 4.81937705,  2.71331988],\n",
       "       [ 4.60976941,  4.46296061],\n",
       "       [ 3.08126191,  3.12528861],\n",
       "       [ 5.71739823,  6.59579389],\n",
       "       [ 5.34329749,  5.35212624],\n",
       "       [ 4.84401155,  5.62569531],\n",
       "       [ 3.52248662,  3.8709831 ],\n",
       "       [ 5.40941057,  6.74279907],\n",
       "       [ 3.39950624,  5.72131584],\n",
       "       [ 4.51963128,  4.67530703],\n",
       "       [ 4.30548424,  4.51850798],\n",
       "       [ 5.94610293,  4.54614885],\n",
       "       [ 4.9780543 ,  5.03221691],\n",
       "       [ 2.95843188,  4.8033216 ],\n",
       "       [ 6.0382043 ,  4.65133755],\n",
       "       [ 6.73724767,  6.22327574],\n",
       "       [ 6.277496  ,  5.41973477],\n",
       "       [ 5.11543382,  5.67923938],\n",
       "       [ 4.27597655,  3.84787741],\n",
       "       [ 6.17314268,  5.10964521],\n",
       "       [ 4.37825365,  3.56331266],\n",
       "       [ 4.83163627,  5.61826906],\n",
       "       [ 5.23759916,  4.12049723],\n",
       "       [ 4.67079609,  3.6833876 ],\n",
       "       [ 6.06821986,  6.06159051],\n",
       "       [ 6.68047755,  4.84746188],\n",
       "       [ 4.95522579,  4.52157552],\n",
       "       [ 5.03996028,  6.76874853],\n",
       "       [ 5.29715213,  6.00200863],\n",
       "       [ 7.27379192,  6.2419905 ],\n",
       "       [ 5.59274273,  4.85389379],\n",
       "       [ 4.04846804,  6.0620083 ],\n",
       "       [ 3.79214175,  4.5984426 ],\n",
       "       [ 3.91727759,  4.6948732 ],\n",
       "       [ 5.44315303,  6.33909809],\n",
       "       [ 4.5256358 ,  4.59686859],\n",
       "       [ 6.12301327,  5.91522333],\n",
       "       [ 5.54762908,  6.31296763],\n",
       "       [ 3.776611  ,  4.32084084],\n",
       "       [ 5.56673846,  5.74412725],\n",
       "       [ 6.08308903,  5.48888815],\n",
       "       [ 5.2866974 ,  5.3991302 ],\n",
       "       [ 4.03178369,  4.86881483],\n",
       "       [ 4.19207509,  4.73671041],\n",
       "       [ 2.85704605,  6.07556569],\n",
       "       [ 4.97485425,  4.91384379],\n",
       "       [ 4.58143963,  5.39164716],\n",
       "       [ 4.10326861,  5.38757907],\n",
       "       [ 5.71386943,  4.83246351],\n",
       "       [ 4.47820667,  4.05308182],\n",
       "       [ 6.47090918,  3.17766774],\n",
       "       [ 3.37935999,  5.96747763],\n",
       "       [ 5.91801523,  5.12589156],\n",
       "       [ 6.17596189,  5.65919907],\n",
       "       [ 3.81108906,  4.38721921],\n",
       "       [ 6.56347151,  5.9893772 ],\n",
       "       [ 5.29400073,  4.98079805],\n",
       "       [ 5.76988786,  5.54886667],\n",
       "       [ 5.24964327,  4.42013895],\n",
       "       [ 4.82747882,  4.82497286],\n",
       "       [ 6.13329837,  4.82032622],\n",
       "       [ 4.21359629,  6.10919863],\n",
       "       [ 5.5257829 ,  5.94252839],\n",
       "       [ 4.38085245,  4.62707185],\n",
       "       [ 3.65867623,  5.41189717],\n",
       "       [ 5.01071346,  4.81906152],\n",
       "       [ 5.20903995,  4.52571159],\n",
       "       [ 6.95590613,  5.79176104],\n",
       "       [ 4.08455522,  6.50159259],\n",
       "       [ 2.61499592,  4.98660473],\n",
       "       [ 4.65090264,  4.32666873],\n",
       "       [ 4.5664289 ,  6.17548034],\n",
       "       [ 5.31601776,  5.21382839],\n",
       "       [ 4.56672659,  5.79993821],\n",
       "       [ 5.82339869,  5.24673166],\n",
       "       [ 5.95487594,  5.73345999],\n",
       "       [ 4.88672378,  4.00950246],\n",
       "       [ 5.05550908,  4.18756904],\n",
       "       [ 5.48420046,  5.10054881],\n",
       "       [ 5.09804543,  5.71607225],\n",
       "       [ 3.60542641,  5.30710156],\n",
       "       [ 5.87625457,  4.31883206],\n",
       "       [ 5.139159  ,  5.56522063],\n",
       "       [ 5.00376869,  7.51450453],\n",
       "       [ 4.71133843,  5.31630974],\n",
       "       [ 5.2351643 ,  5.75562379],\n",
       "       [ 4.65098616,  4.19068652],\n",
       "       [ 4.0610889 ,  5.97452536],\n",
       "       [ 4.43222999,  3.7594109 ],\n",
       "       [ 3.3225533 ,  4.87652003],\n",
       "       [ 6.90605053,  4.55198105],\n",
       "       [ 5.09666378,  4.92445592],\n",
       "       [ 4.75803443,  5.52952979],\n",
       "       [ 5.89136096,  4.06304253],\n",
       "       [ 6.15327117,  5.77384295],\n",
       "       [ 5.15615691,  5.58234768],\n",
       "       [ 5.60806901,  3.9039415 ],\n",
       "       [ 4.4665558 ,  8.27281496],\n",
       "       [ 4.56632545,  2.97189854],\n",
       "       [ 5.82494237,  2.80661395]])"
      ]
     },
     "execution_count": 20,
     "metadata": {},
     "output_type": "execute_result"
    }
   ],
   "source": [
    "cluster_1"
   ]
  },
  {
   "cell_type": "code",
   "execution_count": 23,
   "metadata": {
    "collapsed": false
   },
   "outputs": [
    {
     "name": "stdout",
     "output_type": "stream",
     "text": [
      "[[ 4.81937705  2.71331988]\n",
      " [ 4.60976941  4.46296061]\n",
      " [ 3.08126191  3.12528861]]\n",
      "[[ 0.41473267 -2.42950557]\n",
      " [ 3.24840182 -0.6717321 ]\n",
      " [-0.42068646 -1.48266032]]\n",
      "[[-5.21920293 -3.63645168]\n",
      " [-4.75142264 -6.94119641]\n",
      " [-6.12880346 -3.49879751]]\n"
     ]
    }
   ],
   "source": [
    "print(cluster_1[0:3])\n",
    "print(cluster_2[0:3])\n",
    "print(cluster_3[0:3])"
   ]
  },
  {
   "cell_type": "code",
   "execution_count": 24,
   "metadata": {
    "collapsed": false
   },
   "outputs": [
    {
     "data": {
      "text/plain": [
       "<matplotlib.collections.PathCollection at 0x7eff70b700d0>"
      ]
     },
     "execution_count": 24,
     "metadata": {},
     "output_type": "execute_result"
    },
    {
     "data": {
      "image/png": "[encoded data removed]",
      "text/plain": [
       "<matplotlib.figure.Figure at 0x7eff72c88350>"
      ]
     },
     "metadata": {},
     "output_type": "display_data"
    }
   ],
   "source": [
    "# create a scatter plot there the x-axis is the first column of battles\n",
    "# the y-axis is the second column of battles, the size is 100, and\n",
    "# the color of each point is determined by the indentified variable\n",
    "plt.scatter(battles[:,0], battles[:,1], s=100, c=identified)"
   ]
  },
  {
   "cell_type": "code",
   "execution_count": null,
   "metadata": {
    "collapsed": true
   },
   "outputs": [],
   "source": []
  }
 ],
 "metadata": {
  "kernelspec": {
   "display_name": "Python 2",
   "language": "python",
   "name": "python2"
  },
  "language_info": {
   "codemirror_mode": {
    "name": "ipython",
    "version": 2
   },
   "file_extension": ".py",
   "mimetype": "text/x-python",
   "name": "python",
   "nbconvert_exporter": "python",
   "pygments_lexer": "ipython2",
   "version": "2.7.12"
  }
 },
 "nbformat": 4,
 "nbformat_minor": 2
}
